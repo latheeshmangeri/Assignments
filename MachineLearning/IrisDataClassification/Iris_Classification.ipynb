{
 "cells": [
  {
   "cell_type": "markdown",
   "id": "303670bc",
   "metadata": {},
   "source": [
    "### Importing Libraries"
   ]
  },
  {
   "cell_type": "code",
   "execution_count": 1,
   "id": "3fc576d5",
   "metadata": {},
   "outputs": [],
   "source": [
    "# DataFlair Iris Classification\n",
    "# Import Packages\n",
    "import numpy as np\n",
    "import matplotlib.pyplot as plt\n",
    "import seaborn as sns\n",
    "import pandas as pd\n",
    "%matplotlib inline"
   ]
  },
  {
   "cell_type": "code",
   "execution_count": 2,
   "id": "ffff6547",
   "metadata": {},
   "outputs": [],
   "source": [
    "#Naming the columns\n",
    "columns = ['Sepal length', 'Sepal width', 'Petal length', 'Petal width', 'Class_labels'] # As per the iris dataset information"
   ]
  },
  {
   "cell_type": "code",
   "execution_count": 3,
   "id": "233f3a3f",
   "metadata": {},
   "outputs": [],
   "source": [
    "# Loading the data\n",
    "url = \"http://archive.ics.uci.edu/ml/machine-learning-databases/iris/iris.data\"\n",
    "df = pd.read_csv(url, names=columns)"
   ]
  },
  {
   "cell_type": "code",
   "execution_count": 4,
   "id": "cf735fb2",
   "metadata": {},
   "outputs": [
    {
     "data": {
      "text/html": [
       "<div>\n",
       "<style scoped>\n",
       "    .dataframe tbody tr th:only-of-type {\n",
       "        vertical-align: middle;\n",
       "    }\n",
       "\n",
       "    .dataframe tbody tr th {\n",
       "        vertical-align: top;\n",
       "    }\n",
       "\n",
       "    .dataframe thead th {\n",
       "        text-align: right;\n",
       "    }\n",
       "</style>\n",
       "<table border=\"1\" class=\"dataframe\">\n",
       "  <thead>\n",
       "    <tr style=\"text-align: right;\">\n",
       "      <th></th>\n",
       "      <th>Sepal length</th>\n",
       "      <th>Sepal width</th>\n",
       "      <th>Petal length</th>\n",
       "      <th>Petal width</th>\n",
       "      <th>Class_labels</th>\n",
       "    </tr>\n",
       "  </thead>\n",
       "  <tbody>\n",
       "    <tr>\n",
       "      <th>0</th>\n",
       "      <td>5.1</td>\n",
       "      <td>3.5</td>\n",
       "      <td>1.4</td>\n",
       "      <td>0.2</td>\n",
       "      <td>Iris-setosa</td>\n",
       "    </tr>\n",
       "    <tr>\n",
       "      <th>1</th>\n",
       "      <td>4.9</td>\n",
       "      <td>3.0</td>\n",
       "      <td>1.4</td>\n",
       "      <td>0.2</td>\n",
       "      <td>Iris-setosa</td>\n",
       "    </tr>\n",
       "    <tr>\n",
       "      <th>2</th>\n",
       "      <td>4.7</td>\n",
       "      <td>3.2</td>\n",
       "      <td>1.3</td>\n",
       "      <td>0.2</td>\n",
       "      <td>Iris-setosa</td>\n",
       "    </tr>\n",
       "    <tr>\n",
       "      <th>3</th>\n",
       "      <td>4.6</td>\n",
       "      <td>3.1</td>\n",
       "      <td>1.5</td>\n",
       "      <td>0.2</td>\n",
       "      <td>Iris-setosa</td>\n",
       "    </tr>\n",
       "    <tr>\n",
       "      <th>4</th>\n",
       "      <td>5.0</td>\n",
       "      <td>3.6</td>\n",
       "      <td>1.4</td>\n",
       "      <td>0.2</td>\n",
       "      <td>Iris-setosa</td>\n",
       "    </tr>\n",
       "  </tbody>\n",
       "</table>\n",
       "</div>"
      ],
      "text/plain": [
       "   Sepal length  Sepal width  Petal length  Petal width Class_labels\n",
       "0           5.1          3.5           1.4          0.2  Iris-setosa\n",
       "1           4.9          3.0           1.4          0.2  Iris-setosa\n",
       "2           4.7          3.2           1.3          0.2  Iris-setosa\n",
       "3           4.6          3.1           1.5          0.2  Iris-setosa\n",
       "4           5.0          3.6           1.4          0.2  Iris-setosa"
      ]
     },
     "execution_count": 4,
     "metadata": {},
     "output_type": "execute_result"
    }
   ],
   "source": [
    "df.head()"
   ]
  },
  {
   "cell_type": "code",
   "execution_count": 5,
   "id": "c1a06c46",
   "metadata": {},
   "outputs": [
    {
     "data": {
      "text/html": [
       "<div>\n",
       "<style scoped>\n",
       "    .dataframe tbody tr th:only-of-type {\n",
       "        vertical-align: middle;\n",
       "    }\n",
       "\n",
       "    .dataframe tbody tr th {\n",
       "        vertical-align: top;\n",
       "    }\n",
       "\n",
       "    .dataframe thead th {\n",
       "        text-align: right;\n",
       "    }\n",
       "</style>\n",
       "<table border=\"1\" class=\"dataframe\">\n",
       "  <thead>\n",
       "    <tr style=\"text-align: right;\">\n",
       "      <th></th>\n",
       "      <th>Sepal length</th>\n",
       "      <th>Sepal width</th>\n",
       "      <th>Petal length</th>\n",
       "      <th>Petal width</th>\n",
       "    </tr>\n",
       "  </thead>\n",
       "  <tbody>\n",
       "    <tr>\n",
       "      <th>count</th>\n",
       "      <td>150.000000</td>\n",
       "      <td>150.000000</td>\n",
       "      <td>150.000000</td>\n",
       "      <td>150.000000</td>\n",
       "    </tr>\n",
       "    <tr>\n",
       "      <th>mean</th>\n",
       "      <td>5.843333</td>\n",
       "      <td>3.054000</td>\n",
       "      <td>3.758667</td>\n",
       "      <td>1.198667</td>\n",
       "    </tr>\n",
       "    <tr>\n",
       "      <th>std</th>\n",
       "      <td>0.828066</td>\n",
       "      <td>0.433594</td>\n",
       "      <td>1.764420</td>\n",
       "      <td>0.763161</td>\n",
       "    </tr>\n",
       "    <tr>\n",
       "      <th>min</th>\n",
       "      <td>4.300000</td>\n",
       "      <td>2.000000</td>\n",
       "      <td>1.000000</td>\n",
       "      <td>0.100000</td>\n",
       "    </tr>\n",
       "    <tr>\n",
       "      <th>25%</th>\n",
       "      <td>5.100000</td>\n",
       "      <td>2.800000</td>\n",
       "      <td>1.600000</td>\n",
       "      <td>0.300000</td>\n",
       "    </tr>\n",
       "    <tr>\n",
       "      <th>50%</th>\n",
       "      <td>5.800000</td>\n",
       "      <td>3.000000</td>\n",
       "      <td>4.350000</td>\n",
       "      <td>1.300000</td>\n",
       "    </tr>\n",
       "    <tr>\n",
       "      <th>75%</th>\n",
       "      <td>6.400000</td>\n",
       "      <td>3.300000</td>\n",
       "      <td>5.100000</td>\n",
       "      <td>1.800000</td>\n",
       "    </tr>\n",
       "    <tr>\n",
       "      <th>max</th>\n",
       "      <td>7.900000</td>\n",
       "      <td>4.400000</td>\n",
       "      <td>6.900000</td>\n",
       "      <td>2.500000</td>\n",
       "    </tr>\n",
       "  </tbody>\n",
       "</table>\n",
       "</div>"
      ],
      "text/plain": [
       "       Sepal length  Sepal width  Petal length  Petal width\n",
       "count    150.000000   150.000000    150.000000   150.000000\n",
       "mean       5.843333     3.054000      3.758667     1.198667\n",
       "std        0.828066     0.433594      1.764420     0.763161\n",
       "min        4.300000     2.000000      1.000000     0.100000\n",
       "25%        5.100000     2.800000      1.600000     0.300000\n",
       "50%        5.800000     3.000000      4.350000     1.300000\n",
       "75%        6.400000     3.300000      5.100000     1.800000\n",
       "max        7.900000     4.400000      6.900000     2.500000"
      ]
     },
     "execution_count": 5,
     "metadata": {},
     "output_type": "execute_result"
    }
   ],
   "source": [
    "# Some basic statistical analysis about the data\n",
    "df.describe()"
   ]
  },
  {
   "cell_type": "markdown",
   "id": "eade6f96",
   "metadata": {},
   "source": [
    "### Mapping Categorical labels to Numerical values"
   ]
  },
  {
   "cell_type": "code",
   "execution_count": 6,
   "id": "558b34ee",
   "metadata": {},
   "outputs": [
    {
     "name": "stdout",
     "output_type": "stream",
     "text": [
      "     Sepal length  Sepal width  Petal length  Petal width    Class_labels  \\\n",
      "0             5.1          3.5           1.4          0.2     Iris-setosa   \n",
      "1             4.9          3.0           1.4          0.2     Iris-setosa   \n",
      "2             4.7          3.2           1.3          0.2     Iris-setosa   \n",
      "3             4.6          3.1           1.5          0.2     Iris-setosa   \n",
      "4             5.0          3.6           1.4          0.2     Iris-setosa   \n",
      "..            ...          ...           ...          ...             ...   \n",
      "145           6.7          3.0           5.2          2.3  Iris-virginica   \n",
      "146           6.3          2.5           5.0          1.9  Iris-virginica   \n",
      "147           6.5          3.0           5.2          2.0  Iris-virginica   \n",
      "148           6.2          3.4           5.4          2.3  Iris-virginica   \n",
      "149           5.9          3.0           5.1          1.8  Iris-virginica   \n",
      "\n",
      "     ClassLabels  \n",
      "0              0  \n",
      "1              0  \n",
      "2              0  \n",
      "3              0  \n",
      "4              0  \n",
      "..           ...  \n",
      "145            2  \n",
      "146            2  \n",
      "147            2  \n",
      "148            2  \n",
      "149            2  \n",
      "\n",
      "[150 rows x 6 columns]\n"
     ]
    }
   ],
   "source": [
    "mapping = {\"Iris-setosa\": 0,\"Iris-versicolor\": 1, \"Iris-virginica\": 2}\n",
    "df[\"ClassLabels\"] = df[\"Class_labels\"].map(mapping)\n",
    "\n",
    "print(df)"
   ]
  },
  {
   "cell_type": "markdown",
   "id": "be9d9626",
   "metadata": {},
   "source": [
    "### Removing Categorical label Column"
   ]
  },
  {
   "cell_type": "code",
   "execution_count": 7,
   "id": "7d0bc93c",
   "metadata": {},
   "outputs": [],
   "source": [
    "df = df.drop('Class_labels',axis=1)"
   ]
  },
  {
   "cell_type": "code",
   "execution_count": 8,
   "id": "762ca5b9",
   "metadata": {},
   "outputs": [
    {
     "data": {
      "text/plain": [
       "((150, 4), (150,))"
      ]
     },
     "execution_count": 8,
     "metadata": {},
     "output_type": "execute_result"
    }
   ],
   "source": [
    "y = df['ClassLabels']\n",
    "X = df.drop('ClassLabels',axis=1)\n",
    "X.shape, y.shape"
   ]
  },
  {
   "cell_type": "markdown",
   "id": "35eeb144",
   "metadata": {},
   "source": [
    "### Splitting the dataset into Train and Test sets: 75-25 split"
   ]
  },
  {
   "cell_type": "code",
   "execution_count": 9,
   "id": "3e7747bb",
   "metadata": {},
   "outputs": [
    {
     "data": {
      "text/plain": [
       "((112, 4), (38, 4), (112,), (38,))"
      ]
     },
     "execution_count": 9,
     "metadata": {},
     "output_type": "execute_result"
    }
   ],
   "source": [
    "from sklearn.model_selection import train_test_split,cross_val_score\n",
    "\n",
    "X_train, X_test, y_train, y_test = train_test_split(X, y,\n",
    "                                                    test_size = 0.25, \n",
    "                                                    random_state = 12)\n",
    "X_train.shape, X_test.shape, y_train.shape, y_test.shape"
   ]
  },
  {
   "cell_type": "markdown",
   "id": "bd287e6d",
   "metadata": {},
   "source": [
    "### Logistic Regression using Scikit-learn"
   ]
  },
  {
   "cell_type": "code",
   "execution_count": 10,
   "id": "979f8191",
   "metadata": {},
   "outputs": [
    {
     "name": "stdout",
     "output_type": "stream",
     "text": [
      "The accuracy of the Logistic Regression is 0.9736842105263158\n"
     ]
    }
   ],
   "source": [
    "from sklearn import metrics\n",
    "from sklearn.metrics import confusion_matrix\n",
    "from sklearn.linear_model import LogisticRegression\n",
    "import seaborn as sns\n",
    "import matplotlib.pyplot as plt\n",
    "model_LR = LogisticRegression(max_iter=1000)\n",
    "model_LR.fit(X_train,y_train)\n",
    "prediction=model_LR.predict(X_test)\n",
    "print('The accuracy of the Logistic Regression is',metrics.accuracy_score(prediction,y_test))"
   ]
  },
  {
   "cell_type": "code",
   "execution_count": 11,
   "id": "0c8efa15",
   "metadata": {},
   "outputs": [
    {
     "data": {
      "text/plain": [
       "0.9736842105263158"
      ]
     },
     "execution_count": 11,
     "metadata": {},
     "output_type": "execute_result"
    }
   ],
   "source": [
    "predictions = model_LR.predict(X_test)\n",
    "# Calculate the accuracy\n",
    "from sklearn.metrics import accuracy_score, recall_score,precision_score,f1_score\n",
    "accuracy_lr = accuracy_score(y_test, predictions)\n",
    "accuracy_lr"
   ]
  },
  {
   "cell_type": "code",
   "execution_count": 12,
   "id": "796bd777",
   "metadata": {},
   "outputs": [
    {
     "name": "stdout",
     "output_type": "stream",
     "text": [
      "Train Accuracy  0.9732142857142857\n",
      "Test Accuracy  0.9736842105263158\n"
     ]
    }
   ],
   "source": [
    "print(\"Train Accuracy \",accuracy_score(model_LR.predict(X_train),y_train))\n",
    "print(\"Test Accuracy \",accuracy_score(model_LR.predict(X_test),y_test))"
   ]
  },
  {
   "cell_type": "markdown",
   "id": "26acf21a",
   "metadata": {},
   "source": [
    "### Classification report for Linear Regression using Scikit-Learn"
   ]
  },
  {
   "cell_type": "code",
   "execution_count": 13,
   "id": "26189e59",
   "metadata": {},
   "outputs": [
    {
     "name": "stdout",
     "output_type": "stream",
     "text": [
      "              precision    recall  f1-score   support\n",
      "\n",
      "           0       1.00      1.00      1.00        15\n",
      "           1       1.00      0.92      0.96        12\n",
      "           2       0.92      1.00      0.96        11\n",
      "\n",
      "    accuracy                           0.97        38\n",
      "   macro avg       0.97      0.97      0.97        38\n",
      "weighted avg       0.98      0.97      0.97        38\n",
      "\n"
     ]
    }
   ],
   "source": [
    "from sklearn.metrics import classification_report\n",
    "print(classification_report(y_test, predictions))"
   ]
  },
  {
   "cell_type": "code",
   "execution_count": 14,
   "id": "b85d40cb",
   "metadata": {},
   "outputs": [
    {
     "name": "stdout",
     "output_type": "stream",
     "text": [
      "Cross-validation scores: [1.         0.93333333 1.         1.         0.93333333 0.93333333\n",
      " 0.93333333 1.         1.         1.        ]\n",
      "Mean cross-validation accuracy: 0.9733333333333334\n"
     ]
    }
   ],
   "source": [
    "cross_val_scores = cross_val_score(model_LR, X, y, cv=10)\n",
    "print(\"Cross-validation scores:\", cross_val_scores)\n",
    "print(\"Mean cross-validation accuracy:\", cross_val_scores.mean())"
   ]
  },
  {
   "cell_type": "code",
   "execution_count": 15,
   "id": "9bae8985",
   "metadata": {},
   "outputs": [
    {
     "data": {
      "image/png": "[encoded data removed]",
      "text/plain": [
       "<Figure size 640x480 with 2 Axes>"
      ]
     },
     "metadata": {},
     "output_type": "display_data"
    }
   ],
   "source": [
    "y_pred = model_LR.predict(X_test)\n",
    "\n",
    "cm = confusion_matrix(y_test, y_pred)\n",
    "\n",
    "sns.heatmap(cm, \n",
    "            annot=True,\n",
    "            xticklabels=['Iris-setosa','Iris-versicolor','Iris-virginica'],\n",
    "            yticklabels=['Iris-setosa','Iris-versicolor','Iris-virginica'])\n",
    "plt.ylabel('Prediction',fontsize=13)\n",
    "plt.xlabel('Actual',fontsize=13)\n",
    "plt.title('Linear Regression Confusion Matrix',fontsize=17)\n",
    "plt.show()"
   ]
  },
  {
   "cell_type": "markdown",
   "id": "e7dbb08c",
   "metadata": {},
   "source": [
    "### Least Square Estimator"
   ]
  },
  {
   "cell_type": "code",
   "execution_count": 16,
   "id": "5c17f43e",
   "metadata": {},
   "outputs": [],
   "source": [
    "X_train_aug = np.c_[X_train, np.ones(X_train.shape[0])]\n",
    "X_test_aug = np.c_[X_test, np.ones(X_test.shape[0])]\n",
    "theta = np.linalg.inv(X_train_aug.T.dot(X_train_aug)).dot(X_train_aug.T).dot(y_train)"
   ]
  },
  {
   "cell_type": "code",
   "execution_count": 17,
   "id": "1e8b6ad1",
   "metadata": {},
   "outputs": [
    {
     "data": {
      "text/plain": [
       "1.0"
      ]
     },
     "execution_count": 17,
     "metadata": {},
     "output_type": "execute_result"
    }
   ],
   "source": [
    "y_pred_test_ls = np.round(X_test_aug.dot(theta))\n",
    "y_pred_train_ls = np.round(X_train_aug.dot(theta))\n",
    "accuracy_ls = accuracy_score(y_test, y_pred_test_ls)\n",
    "accuracy_ls"
   ]
  },
  {
   "cell_type": "code",
   "execution_count": 18,
   "id": "3ed6c271",
   "metadata": {},
   "outputs": [
    {
     "name": "stdout",
     "output_type": "stream",
     "text": [
      "Train Accuracy  0.9642857142857143\n",
      "Test Accuracy  1.0\n"
     ]
    }
   ],
   "source": [
    "print(\"Train Accuracy \",accuracy_score(y_pred_train_ls,y_train))\n",
    "print(\"Test Accuracy \",accuracy_score(y_pred_test_ls,y_test))"
   ]
  },
  {
   "cell_type": "code",
   "execution_count": 19,
   "id": "5ad0e775",
   "metadata": {},
   "outputs": [
    {
     "name": "stdout",
     "output_type": "stream",
     "text": [
      "Accuracy of Linear Regression (Scikit-learn): 0.9736842105263158\n",
      "Accuracy of Least Squares Estimator: 1.0\n"
     ]
    }
   ],
   "source": [
    "print(\"Accuracy of Linear Regression (Scikit-learn):\", accuracy_lr)\n",
    "print(\"Accuracy of Least Squares Estimator:\", accuracy_ls)"
   ]
  },
  {
   "cell_type": "markdown",
   "id": "4d19616f",
   "metadata": {},
   "source": [
    "### Classification report for Linear Regression using Least Squares Estimator"
   ]
  },
  {
   "cell_type": "code",
   "execution_count": 20,
   "id": "2567ce83",
   "metadata": {},
   "outputs": [
    {
     "name": "stdout",
     "output_type": "stream",
     "text": [
      "              precision    recall  f1-score   support\n",
      "\n",
      "           0       1.00      1.00      1.00        15\n",
      "           1       1.00      1.00      1.00        12\n",
      "           2       1.00      1.00      1.00        11\n",
      "\n",
      "    accuracy                           1.00        38\n",
      "   macro avg       1.00      1.00      1.00        38\n",
      "weighted avg       1.00      1.00      1.00        38\n",
      "\n"
     ]
    }
   ],
   "source": [
    "print(classification_report(y_test, y_pred_test_ls))"
   ]
  },
  {
   "cell_type": "markdown",
   "id": "988dfcfc",
   "metadata": {},
   "source": [
    "### Linear Regression vs Least Square Estimator"
   ]
  },
  {
   "cell_type": "code",
   "execution_count": 22,
   "id": "87d6da8d",
   "metadata": {},
   "outputs": [
    {
     "name": "stdout",
     "output_type": "stream",
     "text": [
      "Requirement already satisfied: tabulate in /Users/latheeshmangeri369/micromamba/lib/python3.9/site-packages (0.9.0)\n",
      "\u001b[33mWARNING: Error parsing requirements for platformdirs: [Errno 2] No such file or directory: '/Users/latheeshmangeri369/micromamba/lib/python3.9/site-packages/platformdirs-3.5.3.dist-info/METADATA'\u001b[0m\u001b[33m\n",
      "\u001b[0m+-----------------------------+----------------------------------------+--------------------------+\n",
      "|                             |   Linear Regression using scikit-learn |   Least Square Estimator |\n",
      "+=============================+========================================+==========================+\n",
      "| Test Accuracy               |                               0.973684 |                 1        |\n",
      "+-----------------------------+----------------------------------------+--------------------------+\n",
      "| Train Accuracy              |                               0.973214 |                 0.964286 |\n",
      "+-----------------------------+----------------------------------------+--------------------------+\n",
      "| Mean Cross Validation Score |                               0.973333 |                 0.964394 |\n",
      "+-----------------------------+----------------------------------------+--------------------------+\n"
     ]
    }
   ],
   "source": [
    "! pip install tabulate\n",
    "import pandas as pd\n",
    "from tabulate import tabulate\n",
    "\n",
    "# Define the metrics for each model (example values)\n",
    "models = ['Linear Regression using scikit-learn', 'Least Square Estimator']\n",
    "test_accuracy = [accuracy_score(y_test, predictions),accuracy_score(y_pred_test_ls,y_test)]\n",
    "train_accuracy = [accuracy_score(model_LR.predict(X_train),y_train),accuracy_score(y_pred_train_ls,y_train)]\n",
    "mean_cross_val_score = [cross_val_score(model_LR, X, y, cv=10).mean(), cross_val_score(model_LR, X_train_aug, y_train, cv=10).mean()]\n",
    "# dictionary to store the metrics\n",
    "metrics_dict = {\n",
    "    'Model': models,\n",
    "    'Test Accuracy': test_accuracy,\n",
    "    'Train Accuracy': train_accuracy,\n",
    "    'Mean Cross Validation Score': mean_cross_val_score\n",
    "}\n",
    "\n",
    "metrics_df = pd.DataFrame(metrics_dict, index=models)\n",
    "metrics_df.set_index('Model', inplace=True)\n",
    "metrics_df = metrics_df.T\n",
    "\n",
    "print(tabulate(metrics_df, headers='keys', tablefmt='grid'))"
   ]
  }
 ],
 "metadata": {
  "kernelspec": {
   "display_name": "Python 3",
   "language": "python",
   "name": "python3"
  },
  "language_info": {
   "codemirror_mode": {
    "name": "ipython",
    "version": 3
   },
   "file_extension": ".py",
   "mimetype": "text/x-python",
   "name": "python",
   "nbconvert_exporter": "python",
   "pygments_lexer": "ipython3",
   "version": "3.9.16"
  }
 },
 "nbformat": 4,
 "nbformat_minor": 5
}
